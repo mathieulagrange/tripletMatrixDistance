{
 "cells": [
  {
   "cell_type": "code",
   "execution_count": null,
   "metadata": {},
   "outputs": [],
   "source": [
    "import numpy as np\n",
    "from scipy.spatial.distance import pdist, squareform\n",
    "from tqdm.notebook import tqdm"
   ]
  },
  {
   "cell_type": "code",
   "execution_count": null,
   "metadata": {},
   "outputs": [],
   "source": [
    "np.random.seed(0)\n",
    "\n",
    "n_elts = 1000\n",
    "n_dims = 10\n",
    "\n",
    "ref = pdist(np.random.random((n_elts, n_dims)))"
   ]
  },
  {
   "cell_type": "code",
   "execution_count": null,
   "metadata": {},
   "outputs": [],
   "source": [
    "pred = ref+np.random.random(ref.shape)"
   ]
  },
  {
   "cell_type": "code",
   "execution_count": null,
   "metadata": {},
   "outputs": [],
   "source": [
    "rs = squareform(ref)\n",
    "ps = squareform(pred)\n",
    "\n"
   ]
  },
  {
   "cell_type": "code",
   "execution_count": null,
   "metadata": {},
   "outputs": [],
   "source": [
    "def triplet_distance(ps, rs):\n",
    "    \n",
    "    n_elts = rs.shape[0]\n",
    "    n_triplets = np.math.factorial(n_elts)/(np.math.factorial(3)*np.math.factorial(n_elts-3))\n",
    "    \n",
    "    d = 0\n",
    "    for k in tqdm(np.arange(0, n_elts-2)):\n",
    "        for l in np.arange(k+1, n_elts-1):\n",
    "            for m in np.arange(l+1, n_elts):\n",
    "                if rs[k, l]>=rs[l, m]:\n",
    "                    if ps[k, l]>=ps[l, m]:\n",
    "                        d+=1\n",
    "                else:\n",
    "                    if ps[k, l]<ps[l, m]:\n",
    "                        d+=1\n",
    "    return d/n_triplets\n",
    "\n",
    "triplet_distance(ps, rs)"
   ]
  },
  {
   "cell_type": "code",
   "execution_count": null,
   "metadata": {},
   "outputs": [],
   "source": []
  }
 ],
 "metadata": {
  "kernelspec": {
   "display_name": "Python 3",
   "language": "python",
   "name": "python3"
  },
  "language_info": {
   "codemirror_mode": {
    "name": "ipython",
    "version": 3
   },
   "file_extension": ".py",
   "mimetype": "text/x-python",
   "name": "python",
   "nbconvert_exporter": "python",
   "pygments_lexer": "ipython3",
   "version": "3.8.16"
  },
  "orig_nbformat": 4
 },
 "nbformat": 4,
 "nbformat_minor": 2
}
