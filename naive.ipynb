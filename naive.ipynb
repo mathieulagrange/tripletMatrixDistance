{
 "cells": [
  {
   "cell_type": "code",
   "execution_count": 38,
   "metadata": {},
   "outputs": [],
   "source": [
    "import numpy as np\n",
    "from scipy.spatial.distance import pdist, squareform\n",
    "from tqdm.notebook import tqdm\n",
    "import subprocess"
   ]
  },
  {
   "cell_type": "code",
   "execution_count": 39,
   "metadata": {},
   "outputs": [],
   "source": [
    "np.random.seed(0)\n",
    "\n",
    "n_elts = 1000\n",
    "n_dims = 10\n",
    "\n",
    "ref = pdist(np.random.random((n_elts, n_dims)))\n",
    "pred = ref+np.random.random(ref.shape)\n",
    "\n",
    "rs = squareform(ref)\n",
    "ps = squareform(pred)"
   ]
  },
  {
   "cell_type": "code",
   "execution_count": 40,
   "metadata": {},
   "outputs": [
    {
     "data": {
      "application/vnd.jupyter.widget-view+json": {
       "model_id": "7ffd2bbc67ad4f7482b1bf529f7da4b3",
       "version_major": 2,
       "version_minor": 0
      },
      "text/plain": [
       "  0%|          | 0/998 [00:00<?, ?it/s]"
      ]
     },
     "metadata": {},
     "output_type": "display_data"
    },
    {
     "name": "stdout",
     "output_type": "stream",
     "text": [
      "0.7055724301455765\n"
     ]
    }
   ],
   "source": [
    "def triplet_distance(ps, rs):\n",
    "    \n",
    "    n_elts = rs.shape[0]\n",
    "    n_triplets = n_elts*(n_elts-1)*(n_elts-2)/6\n",
    " \n",
    "    d = 0\n",
    "    for k in tqdm(np.arange(0, n_elts-2)):\n",
    "        for l in np.arange(k+1, n_elts-1):\n",
    "            for m in np.arange(l+1, n_elts):\n",
    "                if rs[k, l]>=rs[l, m]:\n",
    "                    if ps[k, l]>=ps[l, m]:\n",
    "                        d+=1\n",
    "                else:\n",
    "                    if ps[k, l]<ps[l, m]:\n",
    "                        d+=1\n",
    "    return d/n_triplets\n",
    "\n",
    "print(triplet_distance(ps, rs))"
   ]
  },
  {
   "cell_type": "code",
   "execution_count": 41,
   "metadata": {},
   "outputs": [],
   "source": [
    "np.savetxt('reference.csv', rs, delimiter=',')\n",
    "np.savetxt('predicted.csv', ps, delimiter=',')"
   ]
  },
  {
   "cell_type": "code",
   "execution_count": 42,
   "metadata": {},
   "outputs": [
    {
     "name": "stdout",
     "output_type": "stream",
     "text": [
      "b'0.100966'\n"
     ]
    }
   ],
   "source": [
    "res = subprocess.check_output('./naive')\n",
    "print(res)"
   ]
  },
  {
   "cell_type": "code",
   "execution_count": null,
   "metadata": {},
   "outputs": [],
   "source": []
  }
 ],
 "metadata": {
  "kernelspec": {
   "display_name": "Python 3",
   "language": "python",
   "name": "python3"
  },
  "language_info": {
   "codemirror_mode": {
    "name": "ipython",
    "version": 3
   },
   "file_extension": ".py",
   "mimetype": "text/x-python",
   "name": "python",
   "nbconvert_exporter": "python",
   "pygments_lexer": "ipython3",
   "version": "3.8.16"
  },
  "orig_nbformat": 4
 },
 "nbformat": 4,
 "nbformat_minor": 2
}
