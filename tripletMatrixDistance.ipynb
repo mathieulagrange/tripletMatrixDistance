{
 "cells": [
  {
   "cell_type": "code",
   "execution_count": 47,
   "metadata": {},
   "outputs": [],
   "source": [
    "import numpy as np\n",
    "from scipy.spatial.distance import pdist, squareform\n",
    "from tqdm.notebook import tqdm\n",
    "import subprocess\n",
    "import time\n",
    "\n",
    "import matplotlib.pyplot as plt\n",
    "plt.rcParams['figure.figsize'] = [6, 3]"
   ]
  },
  {
   "cell_type": "markdown",
   "metadata": {},
   "source": [
    "# Python implementation"
   ]
  },
  {
   "cell_type": "code",
   "execution_count": 48,
   "metadata": {},
   "outputs": [],
   "source": [
    "def triplet_distance(ps, rs):\n",
    "    \n",
    "    n_elts = rs.shape[0]\n",
    "    n_triplets = n_elts*(n_elts-1)*(n_elts-2)/6\n",
    " \n",
    "    d = 0\n",
    "    for k in np.arange(0, n_elts-2):\n",
    "        for l in np.arange(k+1, n_elts-1):\n",
    "            for m in np.arange(l+1, n_elts):\n",
    "                if rs[k, l]>=rs[l, m]:\n",
    "                    if ps[k, l]>=ps[l, m]:\n",
    "                        d+=1\n",
    "                else:\n",
    "                    if ps[k, l]<ps[l, m]:\n",
    "                        d+=1\n",
    "    return d/n_triplets"
   ]
  },
  {
   "cell_type": "markdown",
   "metadata": {},
   "source": [
    "# Compiling cpp implementation"
   ]
  },
  {
   "cell_type": "code",
   "execution_count": 49,
   "metadata": {},
   "outputs": [],
   "source": [
    "!./compile.sh"
   ]
  },
  {
   "cell_type": "markdown",
   "metadata": {},
   "source": [
    "# Benchmark"
   ]
  },
  {
   "cell_type": "code",
   "execution_count": 50,
   "metadata": {},
   "outputs": [
    {
     "data": {
      "application/vnd.jupyter.widget-view+json": {
       "model_id": "b9782096784c47559464850e1eee2dcd",
       "version_major": 2,
       "version_minor": 0
      },
      "text/plain": [
       "  0%|          | 0/9 [00:00<?, ?it/s]"
      ]
     },
     "metadata": {},
     "output_type": "display_data"
    },
    {
     "name": "stdout",
     "output_type": "stream",
     "text": [
      "0.40595430458531007\n"
     ]
    }
   ],
   "source": [
    "\n",
    "np.random.seed(0)\n",
    "\n",
    "max_log_n = 9\n",
    "\n",
    "python_duration = []\n",
    "c_duration = []\n",
    "error = 0\n",
    "\n",
    "for k in tqdm(range(max_log_n)):\n",
    "    n_elts = np.power(2, k+2)\n",
    "    \n",
    "    reference = squareform(pdist(np.random.random((n_elts, 10))))\n",
    "    prediction = squareform(pdist(np.random.random((n_elts, 10))))\n",
    "\n",
    "    np.savetxt('reference.csv', reference, delimiter=',')\n",
    "    np.savetxt('predicted.csv', prediction, delimiter=',')\n",
    "\n",
    "    t = time.time()\n",
    "    p_distance = triplet_distance(reference, prediction)\n",
    "    python_duration.append(time.time()-t)\n",
    "\n",
    "    t = time.time()\n",
    "    c_distance = float(subprocess.check_output(['./tripletMatrixDistance', 'reference.csv', 'predicted.csv']))\n",
    "    c_duration.append(time.time()-t)\n",
    "\n",
    "    error += p_distance-c_distance\n",
    "\n",
    "print(error)\n"
   ]
  },
  {
   "cell_type": "code",
   "execution_count": 51,
   "metadata": {},
   "outputs": [
    {
     "data": {
      "image/png": "[encoded data removed]",
      "text/plain": [
       "<Figure size 600x300 with 1 Axes>"
      ]
     },
     "metadata": {},
     "output_type": "display_data"
    }
   ],
   "source": [
    "\n",
    "plt.plot(python_duration)\n",
    "plt.plot(c_duration)\n",
    "plt.xticks(range(max_log_n), np.power(2, np.arange(max_log_n)+2))\n",
    "plt.xlabel('number of objects')\n",
    "plt.ylabel('duration (seconds)')\n",
    "plt.legend(['python', 'c++'])\n",
    "plt.savefig('assets/benchmark.png', bbox_inches = 'tight')\n",
    "plt.show()\n"
   ]
  },
  {
   "cell_type": "code",
   "execution_count": null,
   "metadata": {},
   "outputs": [],
   "source": []
  },
  {
   "cell_type": "code",
   "execution_count": null,
   "metadata": {},
   "outputs": [],
   "source": []
  }
 ],
 "metadata": {
  "kernelspec": {
   "display_name": "Python 3",
   "language": "python",
   "name": "python3"
  },
  "language_info": {
   "codemirror_mode": {
    "name": "ipython",
    "version": 3
   },
   "file_extension": ".py",
   "mimetype": "text/x-python",
   "name": "python",
   "nbconvert_exporter": "python",
   "pygments_lexer": "ipython3",
   "version": "3.8.16"
  },
  "orig_nbformat": 4
 },
 "nbformat": 4,
 "nbformat_minor": 2
}
